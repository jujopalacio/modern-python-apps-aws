{
 "cells": [
  {
   "cell_type": "markdown",
   "source": [
    "# API Drriven Development\n",
    "\n",
    "It is a process that allows developers to focus on API design before writing code. The idea is, before you start writing your software, you first design and agree on what the API will be\n"
   ],
   "metadata": {
    "collapsed": false,
    "pycharm": {
     "name": "#%% md\n"
    }
   }
  },
  {
   "cell_type": "markdown",
   "source": [
    "# Amazon API Gateway\n",
    "Create, Publish, maintain, monitor and secure Rest, Http and WebSocket APIs.\n",
    "<br>\n",
    "## Method Requests\n",
    "Represents a client-facing interface to access backend resources.\n",
    "\n"
   ],
   "metadata": {
    "collapsed": false
   }
  },
  {
   "cell_type": "markdown",
   "source": [
    "# Create REST API Gateway\n",
    "\n",
    "* Go to AWS web console.\n",
    "* Click on the API Gateway service.\n",
    "* Select REST API option and click __Build__.\n",
    "* Edit the configuration and click on __Create__.\n",
    "* Create a resource (abstract concept to expose something to be consumed).\n",
    "* Create a method to the recent resource."
   ],
   "metadata": {
    "collapsed": false,
    "pycharm": {
     "name": "#%% md\n"
    }
   }
  },
  {
   "cell_type": "markdown",
   "source": [
    "\n",
    "## Validate with Models and Transform with Mappings\n",
    "\n",
    "### Models\n",
    "\n",
    "Validation will use a __schema__ to check the payload, this will be used at the method level, not the resource.\n",
    "\n",
    "### Mappings\n",
    "\n",
    "Transformation to handle the clients' data structure, this should be applied in the method level, this is written in VTL (velocity template language)."
   ],
   "metadata": {
    "collapsed": false,
    "pycharm": {
     "name": "#%% md\n"
    }
   }
  },
  {
   "cell_type": "markdown",
   "source": [
    "## Mocking API design\n",
    "\n",
    "You can mock data using the Integrated Response step with a hardcoded JSON that supports VTL example:\n",
    "\n",
    "```\n",
    "[\n",
    "    #if( $input.params('family') == \"red\" )\n",
    "   {\n",
    "      \"description_str\":\"From yeah\",\n",
    "      \"dragon_name_str\":\"Altan\",\n",
    "      \"family_str\":\"red\",\n",
    "      \"location_city_str\":\"anchorage\",\n",
    "      \"location_country_str\":\"usa\",\n",
    "      \"location_neighborhood_str\":\"w fireweed in\",\n",
    "      \"location_state_str\":\"alaska\"\n",
    "   }\n",
    "   #elseif( $input.params('family') == \"blue\")\n",
    "   {\n",
    "      \"description_str\":\"From no\",\n",
    "      \"dragon_name_str\":\"Altanea\",\n",
    "      \"family_str\":\"blue\",\n",
    "      \"location_city_str\":\"anchorage\",\n",
    "      \"location_country_str\":\"usa\",\n",
    "      \"location_neighborhood_str\":\"w fireweed in\",\n",
    "      \"location_state_str\":\"alaska\"\n",
    "   }\n",
    "   #elseif( $input.params('family') == \"orange\" )\n",
    "   {\n",
    "      \"description_str\":\"From maybe\",\n",
    "      \"dragon_name_str\":\"Altania\",\n",
    "      \"family_str\":\"orange\",\n",
    "      \"location_city_str\":\"anchorage\",\n",
    "      \"location_country_str\":\"usa\",\n",
    "      \"location_neighborhood_str\":\"w fireweed in\",\n",
    "      \"location_state_str\":\"alaska\"\n",
    "   }\n",
    "   #else\n",
    "   {\n",
    "      \"description_str\":\"From wuju\",\n",
    "      \"dragon_name_str\":\"Altanoa\",\n",
    "      \"family_str\":\"black\",\n",
    "      \"location_city_str\":\"anchorage\",\n",
    "      \"location_country_str\":\"usa\",\n",
    "      \"location_neighborhood_str\":\"w fireweed in\",\n",
    "      \"location_state_str\":\"alaska\"\n",
    "   }\n",
    "   #end\n",
    "]\n",
    "```"
   ],
   "metadata": {
    "collapsed": false,
    "pycharm": {
     "name": "#%% md\n"
    }
   }
  },
  {
   "cell_type": "markdown",
   "source": [
    "## API Deployment\n",
    "\n",
    "* Deployment Resource, instantiated after created the deployment, similar to an executable of an API\n",
    "* Associate a deployment with a stage resource, __stage__ is a reference to a deployment.\n",
    "* Stage variables can be as environment variables, can be use in your API setup and mapping templates, these can be used in lambda functions too.\n",
    "\n",
    "### Stages Provide:\n",
    "* Method for deployment\n",
    "* API versioning\n",
    "* Performance Management\n",
    "* SDK generation"
   ],
   "metadata": {
    "collapsed": false,
    "pycharm": {
     "name": "#%% md\n"
    }
   }
  },
  {
   "cell_type": "code",
   "execution_count": null,
   "outputs": [],
   "source": [],
   "metadata": {
    "collapsed": false,
    "pycharm": {
     "name": "#%%\n"
    }
   }
  }
 ],
 "metadata": {
  "kernelspec": {
   "display_name": "Python 3",
   "language": "python",
   "name": "python3"
  },
  "language_info": {
   "codemirror_mode": {
    "name": "ipython",
    "version": 2
   },
   "file_extension": ".py",
   "mimetype": "text/x-python",
   "name": "python",
   "nbconvert_exporter": "python",
   "pygments_lexer": "ipython2",
   "version": "2.7.6"
  }
 },
 "nbformat": 4,
 "nbformat_minor": 0
}